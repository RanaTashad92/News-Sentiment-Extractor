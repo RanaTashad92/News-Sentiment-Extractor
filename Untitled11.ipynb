{
  "nbformat": 4,
  "nbformat_minor": 0,
  "metadata": {
    "colab": {
      "provenance": []
    },
    "kernelspec": {
      "name": "python3",
      "display_name": "Python 3"
    },
    "language_info": {
      "name": "python"
    }
  },
  "cells": [
    {
      "cell_type": "code",
      "source": [
        "!pip install textblob beautifulsoup4 requests"
      ],
      "metadata": {
        "colab": {
          "base_uri": "https://localhost:8080/"
        },
        "id": "CFLLlAUQlprO",
        "outputId": "ae9c2fd7-8c5a-4576-8298-4ef473605f54"
      },
      "execution_count": 2,
      "outputs": [
        {
          "output_type": "stream",
          "name": "stdout",
          "text": [
            "Requirement already satisfied: textblob in /usr/local/lib/python3.12/dist-packages (0.19.0)\n",
            "Requirement already satisfied: beautifulsoup4 in /usr/local/lib/python3.12/dist-packages (4.13.5)\n",
            "Requirement already satisfied: requests in /usr/local/lib/python3.12/dist-packages (2.32.4)\n",
            "Requirement already satisfied: nltk>=3.9 in /usr/local/lib/python3.12/dist-packages (from textblob) (3.9.1)\n",
            "Requirement already satisfied: soupsieve>1.2 in /usr/local/lib/python3.12/dist-packages (from beautifulsoup4) (2.8)\n",
            "Requirement already satisfied: typing-extensions>=4.0.0 in /usr/local/lib/python3.12/dist-packages (from beautifulsoup4) (4.15.0)\n",
            "Requirement already satisfied: charset_normalizer<4,>=2 in /usr/local/lib/python3.12/dist-packages (from requests) (3.4.4)\n",
            "Requirement already satisfied: idna<4,>=2.5 in /usr/local/lib/python3.12/dist-packages (from requests) (3.11)\n",
            "Requirement already satisfied: urllib3<3,>=1.21.1 in /usr/local/lib/python3.12/dist-packages (from requests) (2.5.0)\n",
            "Requirement already satisfied: certifi>=2017.4.17 in /usr/local/lib/python3.12/dist-packages (from requests) (2025.10.5)\n",
            "Requirement already satisfied: click in /usr/local/lib/python3.12/dist-packages (from nltk>=3.9->textblob) (8.3.0)\n",
            "Requirement already satisfied: joblib in /usr/local/lib/python3.12/dist-packages (from nltk>=3.9->textblob) (1.5.2)\n",
            "Requirement already satisfied: regex>=2021.8.3 in /usr/local/lib/python3.12/dist-packages (from nltk>=3.9->textblob) (2024.11.6)\n",
            "Requirement already satisfied: tqdm in /usr/local/lib/python3.12/dist-packages (from nltk>=3.9->textblob) (4.67.1)\n"
          ]
        }
      ]
    },
    {
      "cell_type": "code",
      "source": [
        "from bs4 import BeautifulSoup\n",
        "from textblob import TextBlob\n",
        "import requests"
      ],
      "metadata": {
        "id": "0aKeY-WWlxNd"
      },
      "execution_count": 3,
      "outputs": []
    },
    {
      "cell_type": "code",
      "source": [
        "headers={'User-Agent': 'Mozilla/5.0'}\n",
        "\n",
        "def fetch_links(url, keyword):\n",
        "    try:\n",
        "        res = requests.get(url, headers=headers, timeout=10)\n",
        "        soup = BeautifulSoup(res.text, 'html.parser')\n",
        "        links = [a['href'] for a in soup.find_all('a', href=True) if keyword in a['href']]\n",
        "        return list(set(links))\n",
        "    except Exception as e:\n",
        "        print(f\"Error fetching links {url}: {e}\")\n",
        "        return []\n",
        "\n",
        "def analyze_article(url, source):\n",
        "    try:\n",
        "        res = requests.get(url, headers=headers, timeout=10)\n",
        "        soup = BeautifulSoup(res.text, 'html.parser')\n",
        "        title = soup.title.text.strip() if soup.title else \"No Title\"\n",
        "        text = ' '.join([p.text for p in soup.find_all('p')])\n",
        "        sentiment = TextBlob(text).sentiment\n",
        "        print(f\" [{source}] {title}\")\n",
        "        print(f\"Polarity: {sentiment.polarity:.3f}, Subjectivity: {sentiment.subjectivity:.3f}\")\n",
        "    except Exception as e:\n",
        "        print(f\"Error analyzing {url}: {e}\")\n",
        "\n",
        "\n",
        "def main():\n",
        "    sources = {\n",
        "        \"Dawn\": (\"https://www.dawn.com/latest-news\", \"news\"),\n",
        "        \"The News\": (\"https://www.thenews.com.pk/latest-news\", \"thenews.com.pk\"),\n",
        "        \"Express Tribune\": (\"https://tribune.com.pk/latest\", \"story\"),\n",
        "        \"Business Recorder\": (\"https://www.brecorder.com/latest\", \"brecorder.com/news\"),\n",
        "        \"Geo News\": (\"https://www.geo.tv/latest-news\", \"geo.tv/latest\"),\n",
        "    }\n",
        "    for name, (url, keyword) in sources.items():\n",
        "        print(f\"\\n=== Fetching from {name} ===\")\n",
        "        links = fetch_links(url, keyword)\n",
        "        print(f\"Found {len(links)} articles.\")\n",
        "        for link in links[:3]:\n",
        "            analyze_article(link, name)\n",
        "\n",
        "if __name__ == \"__main__\":\n",
        "    main()"
      ],
      "metadata": {
        "colab": {
          "base_uri": "https://localhost:8080/"
        },
        "id": "DVKpGFpql7cY",
        "outputId": "96e80515-66cb-4923-ab08-f8e1e5384e16"
      },
      "execution_count": 5,
      "outputs": [
        {
          "output_type": "stream",
          "name": "stdout",
          "text": [
            "\n",
            "=== Fetching from Dawn ===\n",
            "Found 0 articles.\n",
            "\n",
            "=== Fetching from The News ===\n",
            "Found 86 articles.\n",
            " [The News] Samar Quddus:Writer - The News International: Latest News Breaking, World, Entertainment, Royal News\n",
            "Polarity: 0.367, Subjectivity: 0.467\n",
            " [The News] TheNews Weekly Magazine\n",
            "Polarity: 0.167, Subjectivity: 0.267\n",
            " [The News] Warning to Israel\n",
            "Polarity: 0.082, Subjectivity: 0.450\n",
            "\n",
            "=== Fetching from Express Tribune ===\n",
            "Found 103 articles.\n",
            " [Express Tribune] Iran accuses US of blocking N-talks\n",
            "Polarity: 0.015, Subjectivity: 0.365\n",
            " [Express Tribune] Two suspected militants held for sectarian killings\n",
            "Polarity: 0.151, Subjectivity: 0.404\n",
            " [Express Tribune] Some diamonds are not forever\n",
            "Polarity: 0.091, Subjectivity: 0.469\n",
            "\n",
            "=== Fetching from Business Recorder ===\n",
            "Found 0 articles.\n",
            "\n",
            "=== Fetching from Geo News ===\n",
            "Found 63 articles.\n",
            " [Geo News] Afghan transit trade all set to resume in phases, says customs authority\n",
            "Polarity: 0.101, Subjectivity: 0.375\n",
            " [Geo News] BCCI seeks to criminalise match-fixing 'to protect cricket'\n",
            "Polarity: -0.014, Subjectivity: 0.463\n",
            " [Geo News] UK parliament to probe Prince Andrew's Royal Lodge lease\n",
            "Polarity: 0.205, Subjectivity: 0.368\n"
          ]
        }
      ]
    }
  ]
}